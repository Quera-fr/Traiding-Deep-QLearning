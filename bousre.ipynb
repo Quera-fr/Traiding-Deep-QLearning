{
 "cells": [
  {
   "cell_type": "code",
   "execution_count": 1,
   "id": "067f003a",
   "metadata": {},
   "outputs": [
    {
     "data": {
      "text/plain": [
       "<environment.TradingEnv at 0x1c2cc2ceed0>"
      ]
     },
     "execution_count": 1,
     "metadata": {},
     "output_type": "execute_result"
    }
   ],
   "source": [
    "from environment import *\n",
    "\n",
    "env = TradingEnv(   \n",
    "    df=df,  # Load your data here\n",
    "    states=states,\n",
    ")\n",
    "\n",
    "env\n"
   ]
  },
  {
   "cell_type": "code",
   "execution_count": 2,
   "id": "c5fd4595",
   "metadata": {},
   "outputs": [
    {
     "data": {
      "text/plain": [
       "{0: 'Hold', 1: 'Buy', 2: 'Sell'}"
      ]
     },
     "execution_count": 2,
     "metadata": {},
     "output_type": "execute_result"
    }
   ],
   "source": [
    "env.actions"
   ]
  },
  {
   "cell_type": "code",
   "execution_count": 3,
   "id": "9f178cd9",
   "metadata": {},
   "outputs": [
    {
     "data": {
      "text/plain": [
       "1000"
      ]
     },
     "execution_count": 3,
     "metadata": {},
     "output_type": "execute_result"
    }
   ],
   "source": [
    "env.soldes"
   ]
  },
  {
   "cell_type": "code",
   "execution_count": 4,
   "id": "52a2fe81",
   "metadata": {},
   "outputs": [
    {
     "data": {
      "text/plain": [
       "1000"
      ]
     },
     "execution_count": 4,
     "metadata": {},
     "output_type": "execute_result"
    }
   ],
   "source": [
    "env.get_soldes()"
   ]
  },
  {
   "cell_type": "code",
   "execution_count": 5,
   "id": "38a2a85e",
   "metadata": {},
   "outputs": [
    {
     "data": {
      "text/plain": [
       "0"
      ]
     },
     "execution_count": 5,
     "metadata": {},
     "output_type": "execute_result"
    }
   ],
   "source": [
    "env.current_step"
   ]
  },
  {
   "cell_type": "code",
   "execution_count": 6,
   "id": "2ef02b92",
   "metadata": {},
   "outputs": [
    {
     "data": {
      "text/plain": [
       "array([1.81607407e+01, 1.82000694e+01, 1.73427639e+01, 1.75393925e+01,\n",
       "       1.07821400e+06, 1.74607410e+01, 1.74922008e+01, 1.71539981e+01,\n",
       "       1.74607410e+01, 2.52952900e+06, 1.71461304e+01, 1.74607397e+01,\n",
       "       1.71539967e+01, 1.73034344e+01, 1.23342200e+06, 1.71854575e+01,\n",
       "       1.74607408e+01, 1.71068055e+01, 1.71461315e+01, 1.22142300e+06,\n",
       "       1.70674795e+01, 1.73820888e+01, 1.70674795e+01, 1.71461315e+01,\n",
       "       8.66415000e+05, 1.74607374e+01, 1.75236582e+01, 1.70674763e+01,\n",
       "       1.70674763e+01, 9.20539000e+05, 1.74371446e+01, 1.73820888e+01,\n",
       "       1.68708496e+01, 1.71461315e+01, 1.56669400e+06, 1.69825350e+01,\n",
       "       1.72153450e+01, 1.67937700e+01, 1.68692760e+01, 1.27210400e+06,\n",
       "       1.69495029e+01, 1.71068055e+01, 1.65247807e+01, 1.65955677e+01,\n",
       "       2.08108700e+06, 1.66742199e+01, 1.71775929e+01, 1.66427602e+01,\n",
       "       1.68315239e+01, 1.47321200e+06])"
      ]
     },
     "execution_count": 6,
     "metadata": {},
     "output_type": "execute_result"
    }
   ],
   "source": [
    "env.get_states()"
   ]
  },
  {
   "cell_type": "code",
   "execution_count": 7,
   "id": "8dcb1340",
   "metadata": {},
   "outputs": [
    {
     "data": {
      "text/plain": [
       "(array([1.74607410e+01, 1.74922008e+01, 1.71539981e+01, 1.74607410e+01,\n",
       "        2.52952900e+06, 1.71461304e+01, 1.74607397e+01, 1.71539967e+01,\n",
       "        1.73034344e+01, 1.23342200e+06, 1.71854575e+01, 1.74607408e+01,\n",
       "        1.71068055e+01, 1.71461315e+01, 1.22142300e+06, 1.70674795e+01,\n",
       "        1.73820888e+01, 1.70674795e+01, 1.71461315e+01, 8.66415000e+05,\n",
       "        1.74607374e+01, 1.75236582e+01, 1.70674763e+01, 1.70674763e+01,\n",
       "        9.20539000e+05, 1.74371446e+01, 1.73820888e+01, 1.68708496e+01,\n",
       "        1.71461315e+01, 1.56669400e+06, 1.69825350e+01, 1.72153450e+01,\n",
       "        1.67937700e+01, 1.68692760e+01, 1.27210400e+06, 1.69495029e+01,\n",
       "        1.71068055e+01, 1.65247807e+01, 1.65955677e+01, 2.08108700e+06,\n",
       "        1.66742199e+01, 1.71775929e+01, 1.66427602e+01, 1.68315239e+01,\n",
       "        1.47321200e+06, 1.73427701e+01, 1.73034428e+01, 1.63989447e+01,\n",
       "        1.66584969e+01, 1.75852500e+06]),\n",
       " False,\n",
       " {})"
      ]
     },
     "execution_count": 7,
     "metadata": {},
     "output_type": "execute_result"
    }
   ],
   "source": [
    "env.step(1)  # Action 0: Buy"
   ]
  },
  {
   "cell_type": "code",
   "execution_count": 8,
   "id": "fe8f77bc",
   "metadata": {},
   "outputs": [
    {
     "data": {
      "text/plain": [
       "1"
      ]
     },
     "execution_count": 8,
     "metadata": {},
     "output_type": "execute_result"
    }
   ],
   "source": [
    "env.current_step"
   ]
  },
  {
   "cell_type": "code",
   "execution_count": 9,
   "id": "e9b4c90d",
   "metadata": {},
   "outputs": [
    {
     "data": {
      "text/plain": [
       "982.4606075286865"
      ]
     },
     "execution_count": 9,
     "metadata": {},
     "output_type": "execute_result"
    }
   ],
   "source": [
    "env.get_soldes()"
   ]
  },
  {
   "cell_type": "code",
   "execution_count": 10,
   "id": "b755770e",
   "metadata": {},
   "outputs": [
    {
     "data": {
      "text/plain": [
       "17.539392471313477"
      ]
     },
     "execution_count": 10,
     "metadata": {},
     "output_type": "execute_result"
    }
   ],
   "source": [
    "env.capital"
   ]
  },
  {
   "cell_type": "code",
   "execution_count": null,
   "id": "ad568c8c",
   "metadata": {},
   "outputs": [],
   "source": []
  }
 ],
 "metadata": {
  "kernelspec": {
   "display_name": "Python 3",
   "language": "python",
   "name": "python3"
  },
  "language_info": {
   "codemirror_mode": {
    "name": "ipython",
    "version": 3
   },
   "file_extension": ".py",
   "mimetype": "text/x-python",
   "name": "python",
   "nbconvert_exporter": "python",
   "pygments_lexer": "ipython3",
   "version": "3.11.9"
  }
 },
 "nbformat": 4,
 "nbformat_minor": 5
}
